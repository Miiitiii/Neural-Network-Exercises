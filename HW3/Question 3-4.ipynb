{
 "cells": [
  {
   "cell_type": "code",
   "execution_count": 6,
   "id": "a99a67d4",
   "metadata": {},
   "outputs": [],
   "source": [
    "import numpy as np\n",
    "import matplotlib.pyplot as plt\n",
    "import matplotlib\n",
    "import random, time, sys, math\n",
    "from som import SOM, plot_data_on_map\n",
    "from mpl_toolkits.mplot3d import Axes3D\n",
    "import pandas as pd\n",
    "from sklearn.model_selection import train_test_split\n",
    "import tensorflow as tf\n",
    "from pdb import set_trace as breakpoint\n",
    "from tensorflow import keras\n",
    "from tensorflow.keras.utils import to_categorical"
   ]
  },
  {
   "cell_type": "code",
   "execution_count": 7,
   "id": "868df371",
   "metadata": {},
   "outputs": [],
   "source": [
    "def load_dataset(path):\n",
    "    df = pd.read_csv(path)\n",
    "    dataset = df.to_numpy()\n",
    "\n",
    "    return dataset"
   ]
  },
  {
   "cell_type": "code",
   "execution_count": 39,
   "id": "514473bf",
   "metadata": {},
   "outputs": [],
   "source": [
    "#Load data\n",
    "X = load_dataset('D:/HomeWork/NN/HW3/UCI HAR Dataset/train/X_train.csv')\n",
    "y = load_dataset('D:/HomeWork/NN/HW3/UCI HAR Dataset/train/y_train.csv')\n",
    "X_test = load_dataset('D:/HomeWork/NN/HW3/UCI HAR Dataset/test/X_test.csv')\n",
    "y_test = load_dataset('D:/HomeWork/NN/HW3/UCI HAR Dataset/test/y_test.csv')\n",
    "y = y-1\n",
    "y_test = y_test-1\n",
    "\n",
    "#split data to train and validation\n",
    "X_train, X_valid, y_train, y_valid = train_test_split(X, y, test_size=0.10, random_state=42)"
   ]
  },
  {
   "cell_type": "code",
   "execution_count": 40,
   "id": "65b320a9",
   "metadata": {},
   "outputs": [
    {
     "name": "stdout",
     "output_type": "stream",
     "text": [
      "The tensorboard extension is already loaded. To reload it, use:\n",
      "  %reload_ext tensorboard\n"
     ]
    }
   ],
   "source": [
    "%load_ext tensorboard"
   ]
  },
  {
   "cell_type": "code",
   "execution_count": 41,
   "id": "733e5446",
   "metadata": {},
   "outputs": [],
   "source": [
    "x_train = pd.DataFrame(X_train)\n",
    "y_train = pd.DataFrame(y_train)\n",
    "Y_train = to_categorical(y_train,num_classes=6)\n",
    "Y_test = to_categorical(y_test,num_classes=6)\n",
    "\n",
    "X_valid = pd.DataFrame(X_valid)\n",
    "y_valid = pd.DataFrame(y_valid)\n",
    "y_valid = to_categorical(y_valid,num_classes=6)\n",
    "\n"
   ]
  },
  {
   "cell_type": "code",
   "execution_count": 42,
   "id": "47f316e4",
   "metadata": {},
   "outputs": [],
   "source": [
    "tb_callBack= keras.callbacks.TensorBoard(log_dir='./logs', histogram_freq= 1)"
   ]
  },
  {
   "cell_type": "code",
   "execution_count": 43,
   "id": "5b34cd30",
   "metadata": {},
   "outputs": [
    {
     "name": "stdout",
     "output_type": "stream",
     "text": [
      "Epoch 1/20\n",
      "207/207 [==============================] - 1s 2ms/step - loss: 0.4044 - accuracy: 0.8317 - val_loss: 0.4252 - val_accuracy: 0.8315\n",
      "Epoch 2/20\n",
      "207/207 [==============================] - 0s 2ms/step - loss: 0.1829 - accuracy: 0.9264 - val_loss: 0.1090 - val_accuracy: 0.9552\n",
      "Epoch 3/20\n",
      "207/207 [==============================] - 0s 2ms/step - loss: 0.1332 - accuracy: 0.9469 - val_loss: 0.0998 - val_accuracy: 0.9674\n",
      "Epoch 4/20\n",
      "207/207 [==============================] - 0s 2ms/step - loss: 0.1340 - accuracy: 0.9506 - val_loss: 0.0862 - val_accuracy: 0.9701\n",
      "Epoch 5/20\n",
      "207/207 [==============================] - 0s 2ms/step - loss: 0.1215 - accuracy: 0.9557 - val_loss: 0.1558 - val_accuracy: 0.9402\n",
      "Epoch 6/20\n",
      "207/207 [==============================] - 0s 2ms/step - loss: 0.0939 - accuracy: 0.9645 - val_loss: 0.3471 - val_accuracy: 0.9130\n",
      "Epoch 7/20\n",
      "207/207 [==============================] - 0s 2ms/step - loss: 0.0913 - accuracy: 0.9673 - val_loss: 0.1400 - val_accuracy: 0.9457\n",
      "Epoch 8/20\n",
      "207/207 [==============================] - 0s 2ms/step - loss: 0.0789 - accuracy: 0.9695 - val_loss: 0.0554 - val_accuracy: 0.9837\n",
      "Epoch 9/20\n",
      "207/207 [==============================] - 0s 2ms/step - loss: 0.0595 - accuracy: 0.9778 - val_loss: 0.1587 - val_accuracy: 0.9361\n",
      "Epoch 10/20\n",
      "207/207 [==============================] - 0s 2ms/step - loss: 0.0710 - accuracy: 0.9729 - val_loss: 0.1767 - val_accuracy: 0.9307\n",
      "Epoch 11/20\n",
      "207/207 [==============================] - 0s 2ms/step - loss: 0.1566 - accuracy: 0.9462 - val_loss: 0.1241 - val_accuracy: 0.9457\n",
      "Epoch 12/20\n",
      "207/207 [==============================] - 0s 2ms/step - loss: 0.1234 - accuracy: 0.9548 - val_loss: 0.1668 - val_accuracy: 0.9429\n",
      "Epoch 13/20\n",
      "207/207 [==============================] - 0s 2ms/step - loss: 0.0684 - accuracy: 0.9731 - val_loss: 0.1221 - val_accuracy: 0.9674\n",
      "Epoch 14/20\n",
      "207/207 [==============================] - 0s 2ms/step - loss: 0.0716 - accuracy: 0.9740 - val_loss: 0.2127 - val_accuracy: 0.9429\n",
      "Epoch 15/20\n",
      "207/207 [==============================] - 0s 2ms/step - loss: 0.0640 - accuracy: 0.9779 - val_loss: 0.0444 - val_accuracy: 0.9851\n",
      "Epoch 16/20\n",
      "207/207 [==============================] - 0s 2ms/step - loss: 0.0807 - accuracy: 0.9699 - val_loss: 0.0744 - val_accuracy: 0.9783\n",
      "Epoch 17/20\n",
      "207/207 [==============================] - 0s 2ms/step - loss: 0.0516 - accuracy: 0.9803 - val_loss: 0.0624 - val_accuracy: 0.9769\n",
      "Epoch 18/20\n",
      "207/207 [==============================] - 0s 2ms/step - loss: 0.0673 - accuracy: 0.9758 - val_loss: 0.1127 - val_accuracy: 0.9647\n",
      "Epoch 19/20\n",
      "207/207 [==============================] - 0s 2ms/step - loss: 0.0631 - accuracy: 0.9764 - val_loss: 0.0541 - val_accuracy: 0.9810\n",
      "Epoch 20/20\n",
      "207/207 [==============================] - 0s 2ms/step - loss: 0.0931 - accuracy: 0.9666 - val_loss: 0.0641 - val_accuracy: 0.9755\n"
     ]
    },
    {
     "data": {
      "text/plain": [
       "<keras.callbacks.History at 0x165c2626cd0>"
      ]
     },
     "execution_count": 43,
     "metadata": {},
     "output_type": "execute_result"
    }
   ],
   "source": [
    "model  = keras.models.Sequential([\n",
    "                                  keras.Input(shape =(561,),name = 'input_layer'),\n",
    "                                  keras.layers.Dense(units = 64 , activation='relu', name= 'hidden_layer1'),\n",
    "                                  keras.layers.Dense(units = 128 , activation='relu', name= 'hidden_layer2'),\n",
    "                                  keras.layers.Dense(6,activation='softmax',name='output_layer')\n",
    "])\n",
    "model.compile(optimizer=keras.optimizers.Adam(learning_rate=0.009),loss='categorical_crossentropy',metrics=['accuracy'])\n",
    "model.fit(x_train,Y_train,epochs= 20, validation_data =(X_valid, y_valid) , callbacks=[tb_callBack])"
   ]
  },
  {
   "cell_type": "code",
   "execution_count": 35,
   "id": "da4324dd",
   "metadata": {},
   "outputs": [
    {
     "name": "stdout",
     "output_type": "stream",
     "text": [
      "93/93 [==============================] - 0s 2ms/step - loss: 0.2254 - accuracy: 0.9481\n"
     ]
    }
   ],
   "source": [
    "test_loss , test_acc = model.evaluate(X_test,Y_test,verbose=1)"
   ]
  },
  {
   "cell_type": "code",
   "execution_count": 25,
   "id": "2347cea7",
   "metadata": {},
   "outputs": [
    {
     "name": "stdout",
     "output_type": "stream",
     "text": [
      "Model: \"sequential_5\"\n",
      "_________________________________________________________________\n",
      " Layer (type)                Output Shape              Param #   \n",
      "=================================================================\n",
      " hidden_layer1 (Dense)       (None, 16)                8992      \n",
      "                                                                 \n",
      " output_layer (Dense)        (None, 6)                 102       \n",
      "                                                                 \n",
      "=================================================================\n",
      "Total params: 9,094\n",
      "Trainable params: 9,094\n",
      "Non-trainable params: 0\n",
      "_________________________________________________________________\n"
     ]
    }
   ],
   "source": [
    "model.summary()"
   ]
  },
  {
   "cell_type": "code",
   "execution_count": 26,
   "id": "b38518d9",
   "metadata": {},
   "outputs": [
    {
     "data": {
      "text/plain": [
       "Reusing TensorBoard on port 6006 (pid 6172), started 1 day, 5:28:13 ago. (Use '!kill 6172' to kill it.)"
      ]
     },
     "metadata": {},
     "output_type": "display_data"
    },
    {
     "data": {
      "text/html": [
       "\n",
       "      <iframe id=\"tensorboard-frame-381dcabd501d0282\" width=\"100%\" height=\"800\" frameborder=\"0\">\n",
       "      </iframe>\n",
       "      <script>\n",
       "        (function() {\n",
       "          const frame = document.getElementById(\"tensorboard-frame-381dcabd501d0282\");\n",
       "          const url = new URL(\"/\", window.location);\n",
       "          const port = 6006;\n",
       "          if (port) {\n",
       "            url.port = port;\n",
       "          }\n",
       "          frame.src = url;\n",
       "        })();\n",
       "      </script>\n",
       "    "
      ],
      "text/plain": [
       "<IPython.core.display.HTML object>"
      ]
     },
     "metadata": {},
     "output_type": "display_data"
    }
   ],
   "source": [
    "%tensorboard --logdir logs"
   ]
  },
  {
   "cell_type": "code",
   "execution_count": null,
   "id": "d01e5a60",
   "metadata": {},
   "outputs": [],
   "source": []
  }
 ],
 "metadata": {
  "kernelspec": {
   "display_name": "Python 3",
   "language": "python",
   "name": "python3"
  },
  "language_info": {
   "codemirror_mode": {
    "name": "ipython",
    "version": 3
   },
   "file_extension": ".py",
   "mimetype": "text/x-python",
   "name": "python",
   "nbconvert_exporter": "python",
   "pygments_lexer": "ipython3",
   "version": "3.8.8"
  }
 },
 "nbformat": 4,
 "nbformat_minor": 5
}
