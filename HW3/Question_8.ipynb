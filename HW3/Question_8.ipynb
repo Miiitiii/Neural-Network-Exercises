{
  "nbformat": 4,
  "nbformat_minor": 0,
  "metadata": {
    "colab": {
      "name": "Question 8.ipynb",
      "provenance": [],
      "collapsed_sections": []
    },
    "kernelspec": {
      "name": "python3",
      "display_name": "Python 3"
    },
    "language_info": {
      "name": "python"
    }
  },
  "cells": [
    {
      "cell_type": "code",
      "execution_count": null,
      "metadata": {
        "id": "HPwslEDV3MsO"
      },
      "outputs": [],
      "source": [
        "import cvxpy as cvx\n",
        "import numpy as np"
      ]
    },
    {
      "cell_type": "code",
      "source": [
        "Q = np.matrix('1 -0.5; -0.5 2')\n",
        "f = np.array([-1 , 0])"
      ],
      "metadata": {
        "id": "iJCHYKsX3TsZ"
      },
      "execution_count": null,
      "outputs": []
    },
    {
      "cell_type": "code",
      "source": [
        "A = np.matrix('1 2; 1 -4; 5 76')\n",
        "b = np.array([-2 , -3 , 1])"
      ],
      "metadata": {
        "id": "Css7XWMK3ln1"
      },
      "execution_count": null,
      "outputs": []
    },
    {
      "cell_type": "code",
      "source": [
        "#Part A"
      ],
      "metadata": {
        "id": "165xkgXm_I_c"
      },
      "execution_count": null,
      "outputs": []
    },
    {
      "cell_type": "code",
      "source": [
        "x = cvx.Variable(2)\n",
        "obj = cvx.quad_form(x, Q) + x.T*f\n",
        "cons = [A*x <= b]"
      ],
      "metadata": {
        "id": "h6-iErwt3oVR"
      },
      "execution_count": null,
      "outputs": []
    },
    {
      "cell_type": "code",
      "source": [
        "p_star = cvx.Problem(cvx.Minimize(obj), cons).solve()\n",
        "lambdas = cons[0].dual_value"
      ],
      "metadata": {
        "id": "hFaB3N2m3zTI"
      },
      "execution_count": null,
      "outputs": []
    },
    {
      "cell_type": "code",
      "source": [
        "print(\"P star is :\" ,p_star)\n",
        "print(\"X values are :\" ,x.value)\n",
        "print(\"lambdas are :\" ,lambdas)\n",
        "print(\"A*x.value - b = \" ,(A*(x.value.reshape(2,1))).reshape(3)-b)\n",
        "print(\"2*Q*x.value + f + A.transpose()*cons[0].dual_value = \" ,2*(Q*(x.value.reshape(2,1))).reshape(2) + f + (A.transpose()*cons[0].dual_value.reshape(3,1)).reshape(2))"
      ],
      "metadata": {
        "colab": {
          "base_uri": "https://localhost:8080/"
        },
        "id": "BUMArNGd4nwy",
        "outputId": "ac7d6a66-122b-4a79-9db4-8f6a8d5f0a41"
      },
      "execution_count": null,
      "outputs": [
        {
          "output_type": "stream",
          "name": "stdout",
          "text": [
            "P star is : 8.222222222222223\n",
            "X values are : [-2.33333333  0.16666667]\n",
            "lambdas are : [2.74774125 2.88523345 0.04007173]\n",
            "A*x.value - b =  [[4.44089210e-16 0.00000000e+00 5.32907052e-15]]\n",
            "2*Q*x.value + f + A.transpose()*cons[0].dual_value =  [[1.77635684e-15 0.00000000e+00]]\n"
          ]
        }
      ]
    },
    {
      "cell_type": "code",
      "source": [
        ""
      ],
      "metadata": {
        "id": "a4IgtObv5i8H"
      },
      "execution_count": null,
      "outputs": []
    },
    {
      "cell_type": "code",
      "source": [
        "#Part B"
      ],
      "metadata": {
        "id": "ufYsZ6w89bSd"
      },
      "execution_count": null,
      "outputs": []
    },
    {
      "cell_type": "code",
      "source": [
        "arr_i = np.array([0, -1, 1])\n",
        "delta = 0.05\n",
        "pa_table = np.zeros((9, 4))\n",
        "count = 0"
      ],
      "metadata": {
        "id": "orM--98i9bGe"
      },
      "execution_count": null,
      "outputs": []
    },
    {
      "cell_type": "code",
      "source": [
        "for i in arr_i:\n",
        "  for j in arr_i:\n",
        "    p_pred = p_star - (lambdas[0]*i + lambdas[1]*j)*delta\n",
        "    cons = [A*x <= (b+np.array(np.array([i,j,0])).T*delta)[0]]\n",
        "    p_exact = cvx.Problem(cvx.Minimize(obj), cons).solve()\n",
        "    pa_table[count,:] = np.array([i*delta, j*delta, p_pred, p_exact])\n",
        "    count += 1"
      ],
      "metadata": {
        "id": "pOGw0l-p9gC_"
      },
      "execution_count": null,
      "outputs": []
    },
    {
      "cell_type": "code",
      "source": [
        "print(\"pa_table : \\n\" , pa_table)"
      ],
      "metadata": {
        "colab": {
          "base_uri": "https://localhost:8080/"
        },
        "id": "P67SQueG9zkM",
        "outputId": "8e371a22-60f9-4aa0-ad2d-d0f984871645"
      },
      "execution_count": null,
      "outputs": [
        {
          "output_type": "stream",
          "name": "stdout",
          "text": [
            "pa_table : \n",
            " [[ 0.          0.          8.22222222  6.        ]\n",
            " [ 0.         -0.05        8.36648389  6.        ]\n",
            " [ 0.          0.05        8.07796055  6.        ]\n",
            " [-0.05        0.          8.35960928  6.2525    ]\n",
            " [-0.05       -0.05        8.50387096  6.2525    ]\n",
            " [-0.05        0.05        8.21534761  6.2525    ]\n",
            " [ 0.05        0.          8.08483516  5.7525    ]\n",
            " [ 0.05       -0.05        8.22909683  5.7525    ]\n",
            " [ 0.05        0.05        7.94057349  5.7525    ]]\n"
          ]
        }
      ]
    }
  ]
}